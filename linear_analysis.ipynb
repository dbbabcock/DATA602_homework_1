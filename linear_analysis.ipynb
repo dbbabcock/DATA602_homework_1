{
 "cells": [
  {
   "cell_type": "code",
   "execution_count": 1,
   "metadata": {},
   "outputs": [
    {
     "name": "stdout",
     "output_type": "stream",
     "text": [
      "Pandas version used: 1.0.5\n",
      "Matplotlib version used: 3.2.2\n",
      "Seaborn version used: 0.10.1\n",
      "Statsmodels version used: 0.11.1\n",
      "Scikit-learn version used: 0.23.1\n"
     ]
    }
   ],
   "source": [
    "import pandas as pd\n",
    "import matplotlib\n",
    "import matplotlib.pyplot as plt\n",
    "import seaborn as sns\n",
    "import statsmodels.api as sm\n",
    "import statsmodels.formula.api as smf\n",
    "from statsmodels.graphics.regressionplots import plot_partregress_grid\n",
    "import sklearn\n",
    "from sklearn.preprocessing import StandardScaler\n",
    "from sklearn.model_selection import train_test_split\n",
    "print(\"Pandas version used: \" + pd.__version__)\n",
    "print(\"Matplotlib version used: \" + plt.matplotlib.__version__)\n",
    "print(\"Seaborn version used: \" + sns.__version__)\n",
    "print(\"Statsmodels version used: \" + sm.__version__)\n",
    "print(\"Scikit-learn version used: \" + sklearn.__version__)"
   ]
  },
  {
   "cell_type": "code",
   "execution_count": 2,
   "metadata": {},
   "outputs": [],
   "source": [
    "ins_data = pd.read_csv(\"ins_data_clean.csv\")"
   ]
  },
  {
   "cell_type": "code",
   "execution_count": 3,
   "metadata": {},
   "outputs": [
    {
     "data": {
      "text/html": [
       "<div>\n",
       "<style scoped>\n",
       "    .dataframe tbody tr th:only-of-type {\n",
       "        vertical-align: middle;\n",
       "    }\n",
       "\n",
       "    .dataframe tbody tr th {\n",
       "        vertical-align: top;\n",
       "    }\n",
       "\n",
       "    .dataframe thead th {\n",
       "        text-align: right;\n",
       "    }\n",
       "</style>\n",
       "<table border=\"1\" class=\"dataframe\">\n",
       "  <thead>\n",
       "    <tr style=\"text-align: right;\">\n",
       "      <th></th>\n",
       "      <th>Unnamed: 0</th>\n",
       "      <th>Unnamed: 0.1</th>\n",
       "      <th>age</th>\n",
       "      <th>bmi</th>\n",
       "      <th>charges</th>\n",
       "      <th>sex_female</th>\n",
       "      <th>smoker_yes</th>\n",
       "    </tr>\n",
       "  </thead>\n",
       "  <tbody>\n",
       "    <tr>\n",
       "      <th>0</th>\n",
       "      <td>0</td>\n",
       "      <td>0</td>\n",
       "      <td>19</td>\n",
       "      <td>27.90</td>\n",
       "      <td>16884.92</td>\n",
       "      <td>1</td>\n",
       "      <td>1</td>\n",
       "    </tr>\n",
       "    <tr>\n",
       "      <th>1</th>\n",
       "      <td>1</td>\n",
       "      <td>1</td>\n",
       "      <td>18</td>\n",
       "      <td>33.77</td>\n",
       "      <td>1725.55</td>\n",
       "      <td>0</td>\n",
       "      <td>0</td>\n",
       "    </tr>\n",
       "    <tr>\n",
       "      <th>2</th>\n",
       "      <td>2</td>\n",
       "      <td>2</td>\n",
       "      <td>28</td>\n",
       "      <td>33.00</td>\n",
       "      <td>4449.46</td>\n",
       "      <td>0</td>\n",
       "      <td>0</td>\n",
       "    </tr>\n",
       "    <tr>\n",
       "      <th>3</th>\n",
       "      <td>3</td>\n",
       "      <td>3</td>\n",
       "      <td>33</td>\n",
       "      <td>22.70</td>\n",
       "      <td>21984.47</td>\n",
       "      <td>0</td>\n",
       "      <td>0</td>\n",
       "    </tr>\n",
       "    <tr>\n",
       "      <th>4</th>\n",
       "      <td>4</td>\n",
       "      <td>4</td>\n",
       "      <td>32</td>\n",
       "      <td>28.88</td>\n",
       "      <td>3866.86</td>\n",
       "      <td>0</td>\n",
       "      <td>0</td>\n",
       "    </tr>\n",
       "  </tbody>\n",
       "</table>\n",
       "</div>"
      ],
      "text/plain": [
       "   Unnamed: 0  Unnamed: 0.1  age    bmi   charges  sex_female  smoker_yes\n",
       "0           0             0   19  27.90  16884.92           1           1\n",
       "1           1             1   18  33.77   1725.55           0           0\n",
       "2           2             2   28  33.00   4449.46           0           0\n",
       "3           3             3   33  22.70  21984.47           0           0\n",
       "4           4             4   32  28.88   3866.86           0           0"
      ]
     },
     "execution_count": 3,
     "metadata": {},
     "output_type": "execute_result"
    }
   ],
   "source": [
    "ins_data.head()"
   ]
  },
  {
   "cell_type": "code",
   "execution_count": 4,
   "metadata": {},
   "outputs": [],
   "source": [
    "# Let's split the data into training and testing sets. We will do a 70/30 split:\n",
    "ins_data_train, ins_data_test = train_test_split(ins_data, test_size=0.3)"
   ]
  },
  {
   "cell_type": "code",
   "execution_count": 5,
   "metadata": {},
   "outputs": [
    {
     "name": "stdout",
     "output_type": "stream",
     "text": [
      "                            OLS Regression Results                            \n",
      "==============================================================================\n",
      "Dep. Variable:                charges   R-squared:                       0.755\n",
      "Model:                            OLS   Adj. R-squared:                  0.754\n",
      "Method:                 Least Squares   F-statistic:                     717.6\n",
      "Date:                Tue, 22 Sep 2020   Prob (F-statistic):          1.37e-282\n",
      "Time:                        04:21:34   Log-Likelihood:                -9479.6\n",
      "No. Observations:                 936   AIC:                         1.897e+04\n",
      "Df Residuals:                     931   BIC:                         1.899e+04\n",
      "Df Model:                           4                                         \n",
      "Covariance Type:            nonrobust                                         \n",
      "==============================================================================\n",
      "                 coef    std err          t      P>|t|      [0.025      0.975]\n",
      "------------------------------------------------------------------------------\n",
      "const      -1.114e+04   1139.041     -9.782      0.000   -1.34e+04   -8907.019\n",
      "age          265.8694     14.247     18.661      0.000     237.909     293.830\n",
      "bmi          295.3146     32.630      9.050      0.000     231.277     359.352\n",
      "sex_female   180.5364    398.951      0.453      0.651    -602.411     963.483\n",
      "smoker_yes  2.445e+04    504.517     48.460      0.000    2.35e+04    2.54e+04\n",
      "==============================================================================\n",
      "Omnibus:                      219.477   Durbin-Watson:                   2.098\n",
      "Prob(Omnibus):                  0.000   Jarque-Bera (JB):              562.086\n",
      "Skew:                           1.216   Prob(JB):                    8.80e-123\n",
      "Kurtosis:                       5.916   Cond. No.                         296.\n",
      "==============================================================================\n",
      "\n",
      "Warnings:\n",
      "[1] Standard Errors assume that the covariance matrix of the errors is correctly specified.\n"
     ]
    }
   ],
   "source": [
    "X = ins_data_train[['age','bmi','sex_female','smoker_yes']]\n",
    "y = ins_data_train.charges\n",
    "X = sm.add_constant(X)\n",
    "mod = sm.OLS(y, X, hasconst=True)\n",
    "res = mod.fit()\n",
    "print(res.summary())"
   ]
  },
  {
   "cell_type": "markdown",
   "metadata": {},
   "source": [
    "At first glance, this model does not seem to be too bad. An R-squared of 0.755 demonstrates that the features explain ~75.5% of the variance observed in the training set.\n",
    "\n",
    "Additionally, the p-value is extremely low for each feature except gender. Based on this information, we could reject the null hypothesis that these features (aside from gender) are not explanatory variables of the target variable, charges."
   ]
  },
  {
   "cell_type": "code",
   "execution_count": 24,
   "metadata": {},
   "outputs": [
    {
     "data": {
      "text/plain": [
       "405     14197.513346\n",
       "417     29732.475975\n",
       "73      13731.039207\n",
       "727     27623.326184\n",
       "612      3616.412876\n",
       "            ...     \n",
       "945     14499.079165\n",
       "793     33569.683941\n",
       "495      2423.119914\n",
       "1291    28664.529814\n",
       "843     37444.950756\n",
       "Length: 402, dtype: float64"
      ]
     },
     "execution_count": 24,
     "metadata": {},
     "output_type": "execute_result"
    }
   ],
   "source": [
    "X_test = ins_data_test[['age','bmi','sex_female','smoker_yes']]\n",
    "y = ins_data_test.charges\n",
    "X_test = sm.add_constant(X_test)\n",
    "res.predict(X_test)"
   ]
  },
  {
   "cell_type": "code",
   "execution_count": 26,
   "metadata": {},
   "outputs": [
    {
     "data": {
      "text/plain": [
       "1232    10659.817077\n",
       "1102     8067.357769\n",
       "684      3275.141486\n",
       "870     12841.452420\n",
       "1257    11557.573418\n",
       "            ...     \n",
       "1045    32213.722145\n",
       "881      3052.398688\n",
       "266     29788.536182\n",
       "832      3522.774562\n",
       "762     30083.247121\n",
       "Length: 936, dtype: float64"
      ]
     },
     "execution_count": 26,
     "metadata": {},
     "output_type": "execute_result"
    }
   ],
   "source": [
    "res.predict(X)"
   ]
  },
  {
   "cell_type": "code",
   "execution_count": 27,
   "metadata": {},
   "outputs": [
    {
     "data": {
      "text/plain": [
       "<matplotlib.collections.PathCollection at 0x27bca939bb0>"
      ]
     },
     "execution_count": 27,
     "metadata": {},
     "output_type": "execute_result"
    },
    {
     "data": {
      "image/png": "[encoded data removed]",
      "text/plain": [
       "<Figure size 432x288 with 1 Axes>"
      ]
     },
     "metadata": {
      "needs_background": "light"
     },
     "output_type": "display_data"
    }
   ],
   "source": [
    "plt.scatter(res.predict(X),res.resid)"
   ]
  },
  {
   "cell_type": "code",
   "execution_count": null,
   "metadata": {},
   "outputs": [],
   "source": []
  }
 ],
 "metadata": {
  "kernelspec": {
   "display_name": "Python 3",
   "language": "python",
   "name": "python3"
  },
  "language_info": {
   "codemirror_mode": {
    "name": "ipython",
    "version": 3
   },
   "file_extension": ".py",
   "mimetype": "text/x-python",
   "name": "python",
   "nbconvert_exporter": "python",
   "pygments_lexer": "ipython3",
   "version": "3.8.3"
  }
 },
 "nbformat": 4,
 "nbformat_minor": 4
}
