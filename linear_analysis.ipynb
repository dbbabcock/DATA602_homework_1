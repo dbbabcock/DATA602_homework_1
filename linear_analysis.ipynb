{
 "cells": [
  {
   "cell_type": "code",
   "execution_count": 1,
   "metadata": {},
   "outputs": [
    {
     "name": "stdout",
     "output_type": "stream",
     "text": [
      "Pandas version used: 1.0.5\n",
      "Matplotlib version used: 3.2.2\n",
      "Seaborn version used: 0.10.1\n",
      "Statsmodels version used: 0.11.1\n",
      "Scikit-learn version used: 0.23.1\n"
     ]
    }
   ],
   "source": [
    "import pandas as pd\n",
    "import matplotlib\n",
    "import matplotlib.pyplot as plt\n",
    "import seaborn as sns\n",
    "import statsmodels.api as sm\n",
    "import statsmodels.formula.api as smf\n",
    "from statsmodels.graphics.regressionplots import plot_partregress_grid\n",
    "import sklearn\n",
    "from sklearn.preprocessing import StandardScaler\n",
    "from sklearn.model_selection import train_test_split\n",
    "print(\"Pandas version used: \" + pd.__version__)\n",
    "print(\"Matplotlib version used: \" + plt.matplotlib.__version__)\n",
    "print(\"Seaborn version used: \" + sns.__version__)\n",
    "print(\"Statsmodels version used: \" + sm.__version__)\n",
    "print(\"Scikit-learn version used: \" + sklearn.__version__)"
   ]
  },
  {
   "cell_type": "code",
   "execution_count": 2,
   "metadata": {},
   "outputs": [],
   "source": [
    "# Read in the cleaned data:\n",
    "ins_data = pd.read_csv(\"ins_data_clean.csv\")"
   ]
  },
  {
   "cell_type": "code",
   "execution_count": 3,
   "metadata": {},
   "outputs": [
    {
     "data": {
      "text/html": [
       "<div>\n",
       "<style scoped>\n",
       "    .dataframe tbody tr th:only-of-type {\n",
       "        vertical-align: middle;\n",
       "    }\n",
       "\n",
       "    .dataframe tbody tr th {\n",
       "        vertical-align: top;\n",
       "    }\n",
       "\n",
       "    .dataframe thead th {\n",
       "        text-align: right;\n",
       "    }\n",
       "</style>\n",
       "<table border=\"1\" class=\"dataframe\">\n",
       "  <thead>\n",
       "    <tr style=\"text-align: right;\">\n",
       "      <th></th>\n",
       "      <th>Unnamed: 0</th>\n",
       "      <th>Unnamed: 0.1</th>\n",
       "      <th>age</th>\n",
       "      <th>bmi</th>\n",
       "      <th>charges</th>\n",
       "      <th>sex_female</th>\n",
       "      <th>smoker_yes</th>\n",
       "    </tr>\n",
       "  </thead>\n",
       "  <tbody>\n",
       "    <tr>\n",
       "      <th>0</th>\n",
       "      <td>0</td>\n",
       "      <td>0</td>\n",
       "      <td>19</td>\n",
       "      <td>27.90</td>\n",
       "      <td>16884.92</td>\n",
       "      <td>1</td>\n",
       "      <td>1</td>\n",
       "    </tr>\n",
       "    <tr>\n",
       "      <th>1</th>\n",
       "      <td>1</td>\n",
       "      <td>1</td>\n",
       "      <td>18</td>\n",
       "      <td>33.77</td>\n",
       "      <td>1725.55</td>\n",
       "      <td>0</td>\n",
       "      <td>0</td>\n",
       "    </tr>\n",
       "    <tr>\n",
       "      <th>2</th>\n",
       "      <td>2</td>\n",
       "      <td>2</td>\n",
       "      <td>28</td>\n",
       "      <td>33.00</td>\n",
       "      <td>4449.46</td>\n",
       "      <td>0</td>\n",
       "      <td>0</td>\n",
       "    </tr>\n",
       "    <tr>\n",
       "      <th>3</th>\n",
       "      <td>3</td>\n",
       "      <td>3</td>\n",
       "      <td>33</td>\n",
       "      <td>22.70</td>\n",
       "      <td>21984.47</td>\n",
       "      <td>0</td>\n",
       "      <td>0</td>\n",
       "    </tr>\n",
       "    <tr>\n",
       "      <th>4</th>\n",
       "      <td>4</td>\n",
       "      <td>4</td>\n",
       "      <td>32</td>\n",
       "      <td>28.88</td>\n",
       "      <td>3866.86</td>\n",
       "      <td>0</td>\n",
       "      <td>0</td>\n",
       "    </tr>\n",
       "  </tbody>\n",
       "</table>\n",
       "</div>"
      ],
      "text/plain": [
       "   Unnamed: 0  Unnamed: 0.1  age    bmi   charges  sex_female  smoker_yes\n",
       "0           0             0   19  27.90  16884.92           1           1\n",
       "1           1             1   18  33.77   1725.55           0           0\n",
       "2           2             2   28  33.00   4449.46           0           0\n",
       "3           3             3   33  22.70  21984.47           0           0\n",
       "4           4             4   32  28.88   3866.86           0           0"
      ]
     },
     "execution_count": 3,
     "metadata": {},
     "output_type": "execute_result"
    }
   ],
   "source": [
    "ins_data.head()"
   ]
  },
  {
   "cell_type": "code",
   "execution_count": 4,
   "metadata": {},
   "outputs": [],
   "source": [
    "# Let's split the data into training and testing sets. We will do a 70/30 split:\n",
    "ins_data_train, ins_data_test = train_test_split(ins_data, test_size=0.3)"
   ]
  },
  {
   "cell_type": "code",
   "execution_count": 5,
   "metadata": {},
   "outputs": [
    {
     "name": "stdout",
     "output_type": "stream",
     "text": [
      "                            OLS Regression Results                            \n",
      "==============================================================================\n",
      "Dep. Variable:                charges   R-squared:                       0.755\n",
      "Model:                            OLS   Adj. R-squared:                  0.754\n",
      "Method:                 Least Squares   F-statistic:                     717.7\n",
      "Date:                Tue, 22 Sep 2020   Prob (F-statistic):          1.29e-282\n",
      "Time:                        14:58:02   Log-Likelihood:                -9488.8\n",
      "No. Observations:                 936   AIC:                         1.899e+04\n",
      "Df Residuals:                     931   BIC:                         1.901e+04\n",
      "Df Model:                           4                                         \n",
      "Covariance Type:            nonrobust                                         \n",
      "==============================================================================\n",
      "                 coef    std err          t      P>|t|      [0.025      0.975]\n",
      "------------------------------------------------------------------------------\n",
      "const      -1.098e+04   1145.561     -9.584      0.000   -1.32e+04   -8730.938\n",
      "age          272.7726     14.273     19.112      0.000     244.763     300.783\n",
      "bmi          289.8600     33.303      8.704      0.000     224.502     355.218\n",
      "sex_female  -226.7650    402.695     -0.563      0.573   -1017.061     563.531\n",
      "smoker_yes  2.431e+04    496.584     48.963      0.000    2.33e+04    2.53e+04\n",
      "==============================================================================\n",
      "Omnibus:                      205.097   Durbin-Watson:                   1.949\n",
      "Prob(Omnibus):                  0.000   Jarque-Bera (JB):              492.097\n",
      "Skew:                           1.164   Prob(JB):                    1.39e-107\n",
      "Kurtosis:                       5.683   Cond. No.                         294.\n",
      "==============================================================================\n",
      "\n",
      "Warnings:\n",
      "[1] Standard Errors assume that the covariance matrix of the errors is correctly specified.\n"
     ]
    }
   ],
   "source": [
    "# X will be our training data with the relevant columns elected\n",
    "X = ins_data_train[['age','bmi','sex_female','smoker_yes']]\n",
    "# y represents the charges \n",
    "y = ins_data_train.charges\n",
    "X = sm.add_constant(X)\n",
    "mod = sm.OLS(y, X, hasconst=True)\n",
    "res = mod.fit()\n",
    "print(res.summary())"
   ]
  },
  {
   "cell_type": "markdown",
   "metadata": {},
   "source": [
    "At first glance, this model does not seem to be too bad. An R-squared of 0.755 demonstrates that the features explain ~75.5% of the variance observed in the training set.\n",
    "\n",
    "Additionally, the p-value is extremely low for each feature except gender. Based on this information, we could reject the null hypothesis that these features (aside from sex) are not explanatory variables of the target variable, charges."
   ]
  },
  {
   "cell_type": "code",
   "execution_count": 6,
   "metadata": {},
   "outputs": [
    {
     "data": {
      "text/plain": [
       "832      3342.011051\n",
       "973      5716.125792\n",
       "422     33747.420790\n",
       "910      3227.814855\n",
       "574     14284.351499\n",
       "            ...     \n",
       "525      3524.479895\n",
       "1210     7791.571142\n",
       "713      6206.967532\n",
       "1151    15189.018914\n",
       "793     33849.927235\n",
       "Length: 402, dtype: float64"
      ]
     },
     "execution_count": 6,
     "metadata": {},
     "output_type": "execute_result"
    }
   ],
   "source": [
    "X_test = ins_data_test[['age','bmi','sex_female','smoker_yes']]\n",
    "y = ins_data_test.charges\n",
    "X_test = sm.add_constant(X_test)\n",
    "res.predict(X_test)"
   ]
  },
  {
   "cell_type": "code",
   "execution_count": 7,
   "metadata": {},
   "outputs": [
    {
     "data": {
      "text/plain": [
       "1226    2378.855570\n",
       "301    -9245.442901\n",
       "465    -9995.576000\n",
       "777    -5383.675676\n",
       "313    -4656.707500\n",
       "           ...     \n",
       "310    -1925.316302\n",
       "1042    5792.556734\n",
       "747     1116.365990\n",
       "716      853.282712\n",
       "1187   -1333.841140\n",
       "Length: 936, dtype: float64"
      ]
     },
     "execution_count": 7,
     "metadata": {},
     "output_type": "execute_result"
    }
   ],
   "source": [
    "res.resid"
   ]
  },
  {
   "cell_type": "code",
   "execution_count": 8,
   "metadata": {},
   "outputs": [
    {
     "data": {
      "text/plain": [
       "Text(0.5, 1.0, 'Residuals vs. Predicted Values - Test Set')"
      ]
     },
     "execution_count": 8,
     "metadata": {},
     "output_type": "execute_result"
    },
    {
     "data": {
      "image/png": "[encoded data removed]",
      "text/plain": [
       "<Figure size 432x288 with 1 Axes>"
      ]
     },
     "metadata": {
      "needs_background": "light"
     },
     "output_type": "display_data"
    }
   ],
   "source": [
    "plt.scatter(res.predict(X),res.resid)\n",
    "plt.title(\"Residuals vs. Predicted Values - Test Set\")"
   ]
  },
  {
   "cell_type": "markdown",
   "metadata": {},
   "source": [
    "The plot of the residuals is not very encouraging for this model. There seems to be a wide range of over and under estimates on the charges. While our analysis revealed a lot of important information about the impact of smoking, the model we built does not seem to be terribly accurate with predictions."
   ]
  },
  {
   "cell_type": "markdown",
   "metadata": {},
   "source": [
    "<h1>Next Steps</h1>"
   ]
  },
  {
   "cell_type": "markdown",
   "metadata": {},
   "source": [
    "Unfortunately, the model in its current state is not likely to provide the results that we are hoping for. It does, however, demonstrate that, with more data and features, and perhaps a more robust tools, we could build a useful model."
   ]
  },
  {
   "cell_type": "markdown",
   "metadata": {},
   "source": [
    "Going forward I would encourage the company to prepare more features from the data that might help predict the charges. We would also want to scale up the size of the data to better train a new model."
   ]
  },
  {
   "cell_type": "code",
   "execution_count": null,
   "metadata": {},
   "outputs": [],
   "source": []
  }
 ],
 "metadata": {
  "kernelspec": {
   "display_name": "Python 3",
   "language": "python",
   "name": "python3"
  },
  "language_info": {
   "codemirror_mode": {
    "name": "ipython",
    "version": 3
   },
   "file_extension": ".py",
   "mimetype": "text/x-python",
   "name": "python",
   "nbconvert_exporter": "python",
   "pygments_lexer": "ipython3",
   "version": "3.8.3"
  }
 },
 "nbformat": 4,
 "nbformat_minor": 4
}
