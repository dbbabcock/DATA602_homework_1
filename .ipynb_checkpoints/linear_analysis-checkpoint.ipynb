{
 "cells": [
  {
   "cell_type": "code",
   "execution_count": 1,
   "metadata": {},
   "outputs": [
    {
     "name": "stdout",
     "output_type": "stream",
     "text": [
      "Pandas version used: 1.0.5\n",
      "Matplotlib version used: 3.2.2\n",
      "Seaborn version used: 0.10.1\n",
      "Statsmodels version used: 0.11.1\n",
      "Scikit-learn version used: 0.23.1\n"
     ]
    }
   ],
   "source": [
    "import pandas as pd\n",
    "import matplotlib\n",
    "import matplotlib.pyplot as plt\n",
    "import seaborn as sns\n",
    "import statsmodels.api as sm\n",
    "import statsmodels.formula.api as smf\n",
    "from statsmodels.graphics.regressionplots import plot_partregress_grid\n",
    "import sklearn\n",
    "from sklearn.preprocessing import StandardScaler\n",
    "from sklearn.model_selection import train_test_split\n",
    "print(\"Pandas version used: \" + pd.__version__)\n",
    "print(\"Matplotlib version used: \" + plt.matplotlib.__version__)\n",
    "print(\"Seaborn version used: \" + sns.__version__)\n",
    "print(\"Statsmodels version used: \" + sm.__version__)\n",
    "print(\"Scikit-learn version used: \" + sklearn.__version__)"
   ]
  },
  {
   "cell_type": "code",
   "execution_count": 2,
   "metadata": {},
   "outputs": [],
   "source": [
    "ins_data = pd.read_csv(\"ins_data_clean.csv\")"
   ]
  },
  {
   "cell_type": "code",
   "execution_count": 3,
   "metadata": {},
   "outputs": [
    {
     "data": {
      "text/html": [
       "<div>\n",
       "<style scoped>\n",
       "    .dataframe tbody tr th:only-of-type {\n",
       "        vertical-align: middle;\n",
       "    }\n",
       "\n",
       "    .dataframe tbody tr th {\n",
       "        vertical-align: top;\n",
       "    }\n",
       "\n",
       "    .dataframe thead th {\n",
       "        text-align: right;\n",
       "    }\n",
       "</style>\n",
       "<table border=\"1\" class=\"dataframe\">\n",
       "  <thead>\n",
       "    <tr style=\"text-align: right;\">\n",
       "      <th></th>\n",
       "      <th>Unnamed: 0</th>\n",
       "      <th>Unnamed: 0.1</th>\n",
       "      <th>age</th>\n",
       "      <th>bmi</th>\n",
       "      <th>charges</th>\n",
       "      <th>sex_female</th>\n",
       "      <th>smoker_yes</th>\n",
       "    </tr>\n",
       "  </thead>\n",
       "  <tbody>\n",
       "    <tr>\n",
       "      <th>0</th>\n",
       "      <td>0</td>\n",
       "      <td>0</td>\n",
       "      <td>19</td>\n",
       "      <td>27.90</td>\n",
       "      <td>16884.92</td>\n",
       "      <td>1</td>\n",
       "      <td>1</td>\n",
       "    </tr>\n",
       "    <tr>\n",
       "      <th>1</th>\n",
       "      <td>1</td>\n",
       "      <td>1</td>\n",
       "      <td>18</td>\n",
       "      <td>33.77</td>\n",
       "      <td>1725.55</td>\n",
       "      <td>0</td>\n",
       "      <td>0</td>\n",
       "    </tr>\n",
       "    <tr>\n",
       "      <th>2</th>\n",
       "      <td>2</td>\n",
       "      <td>2</td>\n",
       "      <td>28</td>\n",
       "      <td>33.00</td>\n",
       "      <td>4449.46</td>\n",
       "      <td>0</td>\n",
       "      <td>0</td>\n",
       "    </tr>\n",
       "    <tr>\n",
       "      <th>3</th>\n",
       "      <td>3</td>\n",
       "      <td>3</td>\n",
       "      <td>33</td>\n",
       "      <td>22.70</td>\n",
       "      <td>21984.47</td>\n",
       "      <td>0</td>\n",
       "      <td>0</td>\n",
       "    </tr>\n",
       "    <tr>\n",
       "      <th>4</th>\n",
       "      <td>4</td>\n",
       "      <td>4</td>\n",
       "      <td>32</td>\n",
       "      <td>28.88</td>\n",
       "      <td>3866.86</td>\n",
       "      <td>0</td>\n",
       "      <td>0</td>\n",
       "    </tr>\n",
       "  </tbody>\n",
       "</table>\n",
       "</div>"
      ],
      "text/plain": [
       "   Unnamed: 0  Unnamed: 0.1  age    bmi   charges  sex_female  smoker_yes\n",
       "0           0             0   19  27.90  16884.92           1           1\n",
       "1           1             1   18  33.77   1725.55           0           0\n",
       "2           2             2   28  33.00   4449.46           0           0\n",
       "3           3             3   33  22.70  21984.47           0           0\n",
       "4           4             4   32  28.88   3866.86           0           0"
      ]
     },
     "execution_count": 3,
     "metadata": {},
     "output_type": "execute_result"
    }
   ],
   "source": [
    "ins_data.head()"
   ]
  },
  {
   "cell_type": "code",
   "execution_count": 4,
   "metadata": {},
   "outputs": [],
   "source": [
    "# Let's split the data into training and testing sets. We will do a 70/30 split:\n",
    "ins_data_train, ins_data_test = train_test_split(ins_data, test_size=0.3)"
   ]
  },
  {
   "cell_type": "code",
   "execution_count": 5,
   "metadata": {},
   "outputs": [
    {
     "name": "stdout",
     "output_type": "stream",
     "text": [
      "                            OLS Regression Results                            \n",
      "==============================================================================\n",
      "Dep. Variable:                charges   R-squared:                       0.746\n",
      "Model:                            OLS   Adj. R-squared:                  0.745\n",
      "Method:                 Least Squares   F-statistic:                     682.4\n",
      "Date:                Tue, 22 Sep 2020   Prob (F-statistic):          5.60e-275\n",
      "Time:                        14:37:12   Log-Likelihood:                -9484.9\n",
      "No. Observations:                 936   AIC:                         1.898e+04\n",
      "Df Residuals:                     931   BIC:                         1.900e+04\n",
      "Df Model:                           4                                         \n",
      "Covariance Type:            nonrobust                                         \n",
      "==============================================================================\n",
      "                 coef    std err          t      P>|t|      [0.025      0.975]\n",
      "------------------------------------------------------------------------------\n",
      "const      -1.233e+04   1157.437    -10.649      0.000   -1.46e+04   -1.01e+04\n",
      "age          261.7831     14.187     18.452      0.000     233.941     289.626\n",
      "bmi          339.3868     32.926     10.308      0.000     274.769     404.005\n",
      "sex_female   248.1730    400.843      0.619      0.536    -538.488    1034.834\n",
      "smoker_yes  2.359e+04    492.233     47.933      0.000    2.26e+04    2.46e+04\n",
      "==============================================================================\n",
      "Omnibus:                      190.690   Durbin-Watson:                   1.866\n",
      "Prob(Omnibus):                  0.000   Jarque-Bera (JB):              389.527\n",
      "Skew:                           1.156   Prob(JB):                     2.60e-85\n",
      "Kurtosis:                       5.155   Cond. No.                         296.\n",
      "==============================================================================\n",
      "\n",
      "Warnings:\n",
      "[1] Standard Errors assume that the covariance matrix of the errors is correctly specified.\n"
     ]
    }
   ],
   "source": [
    "X = ins_data_train[['age','bmi','sex_female','smoker_yes']]\n",
    "y = ins_data_train.charges\n",
    "X = sm.add_constant(X)\n",
    "mod = sm.OLS(y, X, hasconst=True)\n",
    "res = mod.fit()\n",
    "print(res.summary())"
   ]
  },
  {
   "cell_type": "markdown",
   "metadata": {},
   "source": [
    "At first glance, this model does not seem to be too bad. An R-squared of 0.755 demonstrates that the features explain ~75.5% of the variance observed in the training set.\n",
    "\n",
    "Additionally, the p-value is extremely low for each feature except gender. Based on this information, we could reject the null hypothesis that these features (aside from gender) are not explanatory variables of the target variable, charges."
   ]
  },
  {
   "cell_type": "code",
   "execution_count": 6,
   "metadata": {},
   "outputs": [
    {
     "data": {
      "text/plain": [
       "782     13232.671248\n",
       "5        4773.253823\n",
       "843     36555.363354\n",
       "708      6388.735225\n",
       "395      6456.233362\n",
       "            ...     \n",
       "87      11813.337354\n",
       "783     33972.836373\n",
       "576      2542.357987\n",
       "1087    13299.886402\n",
       "750     30162.391214\n",
       "Length: 402, dtype: float64"
      ]
     },
     "execution_count": 6,
     "metadata": {},
     "output_type": "execute_result"
    }
   ],
   "source": [
    "X_test = ins_data_test[['age','bmi','sex_female','smoker_yes']]\n",
    "y = ins_data_test.charges\n",
    "X_test = sm.add_constant(X_test)\n",
    "res.predict(X_test)"
   ]
  },
  {
   "cell_type": "code",
   "execution_count": 7,
   "metadata": {},
   "outputs": [
    {
     "data": {
      "text/plain": [
       "1230    36583.211167\n",
       "1078    29350.132408\n",
       "528     13094.640131\n",
       "1302     1525.983893\n",
       "738     28058.186004\n",
       "            ...     \n",
       "82      29795.391396\n",
       "1147     3991.049909\n",
       "310      9790.833322\n",
       "1102     8481.420906\n",
       "756      5869.721681\n",
       "Length: 936, dtype: float64"
      ]
     },
     "execution_count": 7,
     "metadata": {},
     "output_type": "execute_result"
    }
   ],
   "source": [
    "res.predict(X)"
   ]
  },
  {
   "cell_type": "code",
   "execution_count": 8,
   "metadata": {},
   "outputs": [
    {
     "data": {
      "text/plain": [
       "<matplotlib.collections.PathCollection at 0x24957d8d220>"
      ]
     },
     "execution_count": 8,
     "metadata": {},
     "output_type": "execute_result"
    },
    {
     "data": {
      "image/png": "[encoded data removed]",
      "text/plain": [
       "<Figure size 432x288 with 1 Axes>"
      ]
     },
     "metadata": {
      "needs_background": "light"
     },
     "output_type": "display_data"
    }
   ],
   "source": [
    "plt.scatter(res.predict(X),res.resid)"
   ]
  },
  {
   "cell_type": "markdown",
   "metadata": {},
   "source": [
    "The plot of the residuals is not very encouraging for this model. There seems to be a wide range of "
   ]
  }
 ],
 "metadata": {
  "kernelspec": {
   "display_name": "Python 3",
   "language": "python",
   "name": "python3"
  },
  "language_info": {
   "codemirror_mode": {
    "name": "ipython",
    "version": 3
   },
   "file_extension": ".py",
   "mimetype": "text/x-python",
   "name": "python",
   "nbconvert_exporter": "python",
   "pygments_lexer": "ipython3",
   "version": "3.8.3"
  }
 },
 "nbformat": 4,
 "nbformat_minor": 4
}
